{
 "cells": [
  {
   "cell_type": "markdown",
   "metadata": {},
   "source": [
    "# Plan\n",
    "\n",
    "## \n",
    "\n"
   ]
  },
  {
   "cell_type": "markdown",
   "metadata": {},
   "source": [
    "## Scraping"
   ]
  },
  {
   "cell_type": "markdown",
   "metadata": {},
   "source": [
    "* Scrapy tutorial\n",
    "    * https://www.youtube.com/watch?v=s4jtkzHhLzY&t=18s\n",
    "* Where to scrape fighter data\n",
    "    * http://www.ufcstats.com/fighter-details/93fe7332d16c6ad9\n",
    "* Where to scrape fight data\n",
    "    * http://ufcstats.com/statistics/events/completed?page=all\n"
   ]
  },
  {
   "cell_type": "markdown",
   "metadata": {},
   "source": [
    "figter name: response.css('span.b-content__title-highlight::text').get().strip()"
   ]
  },
  {
   "cell_type": "markdown",
   "metadata": {},
   "source": [
    "w/l/t: response.css('span.b-content__title-highlight::text').get().strip()"
   ]
  },
  {
   "cell_type": "markdown",
   "metadata": {},
   "source": [
    "gets list of all the stats: response.css('li.b-list__box-list-item_type_block::text').getall()"
   ]
  },
  {
   "cell_type": "markdown",
   "metadata": {},
   "source": [
    "gets link for each individual fighter response.css('a.b-link::attr(href)').getall()"
   ]
  },
  {
   "cell_type": "code",
   "execution_count": 16,
   "metadata": {},
   "outputs": [
    {
     "data": {
      "text/plain": [
       "['',\n",
       " '6\\' 0\"',\n",
       " '',\n",
       " '145 lbs.',\n",
       " '',\n",
       " '72\"',\n",
       " '',\n",
       " 'Orthodox',\n",
       " '',\n",
       " 'Oct 22, 1991',\n",
       " '',\n",
       " '4.52',\n",
       " '',\n",
       " '41%',\n",
       " '',\n",
       " '6.38',\n",
       " '',\n",
       " '62%',\n",
       " '',\n",
       " '',\n",
       " '',\n",
       " '0.44',\n",
       " '',\n",
       " '18%',\n",
       " '',\n",
       " '57%',\n",
       " '',\n",
       " '0.2']"
      ]
     },
     "execution_count": 16,
     "metadata": {},
     "output_type": "execute_result"
    }
   ],
   "source": [
    "\n",
    "#example output \n",
    "\n",
    "lst= ['\\n      ', '\\n      6\\' 0\"\\n    ', '\\n      ', '\\n      145 lbs.\\n    ', '\\n      ', '\\n      72\"\\n    ', '\\n      ', '\\n      Orthodox\\n    ', '\\n      ', '\\n      \\n        Oct 22, 1991\\n      \\n    ', '\\n          ', '\\n\\n          4.52\\n\\n        ', '\\n          ', '\\n          41%\\n        ', '\\n          ', '\\n          6.38\\n        ', '\\n          ', '\\n          62%\\n        ', '\\n          ', '\\n        ', '\\n          ', '\\n          0.44\\n        ', '\\n          ', '\\n          18%\\n        ', '\\n          ', '\\n          57%\\n        ', '\\n          ', '\\n          0.2\\n        ']\n",
    "lst = [s.strip() for s in lst]\n",
    "\n",
    "lst # for every single page the list is the exactly the same\n"
   ]
  },
  {
   "cell_type": "code",
   "execution_count": 17,
   "metadata": {},
   "outputs": [
    {
     "data": {
      "text/plain": [
       "'72\"'"
      ]
     },
     "execution_count": 17,
     "metadata": {},
     "output_type": "execute_result"
    }
   ],
   "source": [
    "lst[5]"
   ]
  },
  {
   "cell_type": "code",
   "execution_count": 18,
   "metadata": {},
   "outputs": [],
   "source": [
    "txt='Record: 7-3-0'"
   ]
  },
  {
   "cell_type": "code",
   "execution_count": 25,
   "metadata": {},
   "outputs": [
    {
     "data": {
      "text/plain": [
       "'7'"
      ]
     },
     "execution_count": 25,
     "metadata": {},
     "output_type": "execute_result"
    }
   ],
   "source": [
    "wlt_lst=txt.split('-')\n",
    "\n",
    "wlt_lst[0].replace('Record: ', '')"
   ]
  },
  {
   "cell_type": "code",
   "execution_count": 29,
   "metadata": {},
   "outputs": [
    {
     "data": {
      "text/plain": [
       "'145'"
      ]
     },
     "execution_count": 29,
     "metadata": {},
     "output_type": "execute_result"
    }
   ],
   "source": [
    "lst[3].replace(' lbs.', '')"
   ]
  }
 ],
 "metadata": {
  "kernelspec": {
   "display_name": "Python 3.8.12 ('base')",
   "language": "python",
   "name": "python3"
  },
  "language_info": {
   "codemirror_mode": {
    "name": "ipython",
    "version": 3
   },
   "file_extension": ".py",
   "mimetype": "text/x-python",
   "name": "python",
   "nbconvert_exporter": "python",
   "pygments_lexer": "ipython3",
   "version": "3.8.12"
  },
  "vscode": {
   "interpreter": {
    "hash": "28ed5cd8ce41cecc2fff706d226b3eef7bec0687ff143bd5962e3aa6f53044d6"
   }
  }
 },
 "nbformat": 4,
 "nbformat_minor": 4
}
