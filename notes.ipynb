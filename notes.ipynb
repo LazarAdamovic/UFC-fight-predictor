{
 "cells": [
  {
   "cell_type": "markdown",
   "metadata": {},
   "source": [
    "# Plan\n",
    "\n",
    "## \n",
    "\n"
   ]
  },
  {
   "cell_type": "markdown",
   "metadata": {},
   "source": [
    "## Scraping"
   ]
  },
  {
   "cell_type": "markdown",
   "metadata": {},
   "source": [
    "* Scrapy tutorial\n",
    "    * https://www.youtube.com/watch?v=s4jtkzHhLzY&t=18s\n",
    "* Where to scrape fighter data\n",
    "    * http://www.ufcstats.com/fighter-details/93fe7332d16c6ad9\n",
    "* Where to scrape fight data\n",
    "    * http://ufcstats.com/statistics/events/completed?page=all\n"
   ]
  },
  {
   "cell_type": "markdown",
   "metadata": {},
   "source": [
    "figter name: response.css('span.b-content__title-highlight::text').get().strip()"
   ]
  },
  {
   "cell_type": "markdown",
   "metadata": {},
   "source": [
    "w/l/t: response.css('span.b-content__title-highlight::text').get().strip()"
   ]
  },
  {
   "cell_type": "markdown",
   "metadata": {},
   "source": [
    "gets list of all the stats: response.css('li.b-list__box-list-item_type_block::text').getall()"
   ]
  },
  {
   "cell_type": "code",
   "execution_count": 35,
   "metadata": {},
   "outputs": [
    {
     "data": {
      "text/plain": [
       "['',\n",
       " '5\\' 11\"',\n",
       " '',\n",
       " '205 lbs.',\n",
       " '',\n",
       " '--',\n",
       " '',\n",
       " 'Orthodox',\n",
       " '',\n",
       " 'May 28, 1975',\n",
       " '',\n",
       " '1.56',\n",
       " '',\n",
       " '34%',\n",
       " '',\n",
       " '1.63',\n",
       " '',\n",
       " '56%',\n",
       " '',\n",
       " '',\n",
       " '',\n",
       " '3.05',\n",
       " '',\n",
       " '75%',\n",
       " '',\n",
       " '37%',\n",
       " '',\n",
       " '1.0']"
      ]
     },
     "execution_count": 35,
     "metadata": {},
     "output_type": "execute_result"
    }
   ],
   "source": [
    "\n",
    "#example output \n",
    "\n",
    "lst= ['\\n      ', '\\n      5\\' 11\"\\n    ', '\\n      ', '\\n      205 lbs.\\n    ', '\\n      ', '\\n      --\\n    ', '\\n      ', '\\n      Orthodox\\n    ', '\\n      ', '\\n      \\n        May 28, 1975\\n      \\n    ', '\\n          ', '\\n\\n          1.56\\n\\n        ', '\\n          ', '\\n          34%\\n        ', '\\n          ', '\\n          1.63\\n        ', '\\n          ', '\\n          56%\\n        ', '\\n          ', '\\n        ', '\\n          ', '\\n          3.05\\n        ', '\\n          ', '\\n          75%\\n        ', '\\n          ', '\\n          37%\\n        ', '\\n          ', '\\n          1.0\\n        ']\n",
    "lst = [s.strip() for s in lst]\n",
    "\n",
    "lst # for every single page the list is the exactly the same\n"
   ]
  }
 ],
 "metadata": {
  "kernelspec": {
   "display_name": "Python 3.8.12 ('base')",
   "language": "python",
   "name": "python3"
  },
  "language_info": {
   "codemirror_mode": {
    "name": "ipython",
    "version": 3
   },
   "file_extension": ".py",
   "mimetype": "text/x-python",
   "name": "python",
   "nbconvert_exporter": "python",
   "pygments_lexer": "ipython3",
   "version": "3.8.12"
  },
  "vscode": {
   "interpreter": {
    "hash": "28ed5cd8ce41cecc2fff706d226b3eef7bec0687ff143bd5962e3aa6f53044d6"
   }
  }
 },
 "nbformat": 4,
 "nbformat_minor": 4
}
