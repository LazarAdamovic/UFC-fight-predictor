{
 "cells": [
  {
   "cell_type": "markdown",
   "metadata": {},
   "source": [
    "# Pre-processing fighter statistics"
   ]
  },
  {
   "cell_type": "code",
   "execution_count": 81,
   "metadata": {},
   "outputs": [],
   "source": [
    "# import\n",
    "\n",
    "import datetime as DT\n",
    "import io\n",
    "import numpy as np\n",
    "import pandas as pd\n",
    "import re\n",
    "from distutils.log import error\n"
   ]
  },
  {
   "cell_type": "code",
   "execution_count": 82,
   "metadata": {},
   "outputs": [],
   "source": [
    "# load csv file\n",
    "\n",
    "df = pd.read_csv('fighter_scraper/fighterstemp.csv')"
   ]
  },
  {
   "cell_type": "code",
   "execution_count": 83,
   "metadata": {},
   "outputs": [],
   "source": [
    "df=df.drop_duplicates()"
   ]
  },
  {
   "cell_type": "code",
   "execution_count": 84,
   "metadata": {},
   "outputs": [
    {
     "data": {
      "text/plain": [
       "name           object\n",
       "win             int64\n",
       "loss            int64\n",
       "tie            object\n",
       "height_ft      object\n",
       "weight_lbs     object\n",
       "reach_inch     object\n",
       "stance         object\n",
       "dob            object\n",
       "slpm          float64\n",
       "str_acc        object\n",
       "sapm          float64\n",
       "str_def        object\n",
       "tdavg         float64\n",
       "tdacc          object\n",
       "tddef          object\n",
       "subavg        float64\n",
       "dtype: object"
      ]
     },
     "execution_count": 84,
     "metadata": {},
     "output_type": "execute_result"
    }
   ],
   "source": [
    "df.dtypes"
   ]
  },
  {
   "cell_type": "code",
   "execution_count": 85,
   "metadata": {},
   "outputs": [
    {
     "data": {
      "text/plain": [
       "name            0\n",
       "win             0\n",
       "loss            0\n",
       "tie             0\n",
       "height_ft       0\n",
       "weight_lbs      0\n",
       "reach_inch      0\n",
       "stance        306\n",
       "dob             0\n",
       "slpm            0\n",
       "str_acc         0\n",
       "sapm            0\n",
       "str_def         0\n",
       "tdavg           0\n",
       "tdacc           0\n",
       "tddef           0\n",
       "subavg          0\n",
       "dtype: int64"
      ]
     },
     "execution_count": 85,
     "metadata": {},
     "output_type": "execute_result"
    }
   ],
   "source": [
    "df.isna().sum()"
   ]
  },
  {
   "cell_type": "code",
   "execution_count": 91,
   "metadata": {},
   "outputs": [],
   "source": [
    "# feature engineering\n",
    "\n",
    "df['w/l_ratio'] = (df['win'] / df['loss']).round(2)"
   ]
  },
  {
   "cell_type": "code",
   "execution_count": 43,
   "metadata": {},
   "outputs": [],
   "source": [
    "# turn into string\n",
    "\n",
    "#df['dob'] = df['dob'].astype(str)"
   ]
  },
  {
   "cell_type": "code",
   "execution_count": 87,
   "metadata": {},
   "outputs": [],
   "source": [
    "#get age\n",
    "\n",
    "now = pd.Timestamp('now')\n",
    "\n",
    "df['dob'] = [x.replace(\",\", \"\") for x in df['dob']]\n",
    "\n",
    "df['dob'] = pd.to_datetime(df['dob'], errors='coerce')\n",
    "\n",
    "df['dob'] = df['dob'].where(df['dob'] < now, df['dob'] -  np.timedelta64(100, 'Y'))\n",
    "df['age'] = (now - df['dob']).astype('<m8[Y]')\n",
    "df=df.drop(['dob'], axis=1)\n"
   ]
  },
  {
   "cell_type": "code",
   "execution_count": 88,
   "metadata": {},
   "outputs": [],
   "source": [
    "#feet to inches\n",
    "r = re.compile(r\"([0-9]+)' ([0-9]*\\.?[0-9]+)\\\"\")\n",
    "def get_inches(el):\n",
    "    m = r.match(el)\n",
    "    if m == None:\n",
    "        return float('NaN')\n",
    "    else:\n",
    "        return int(m.group(1))*12 + float(m.group(2))\n",
    "    \n",
    "\n",
    "#run function to create new column\n",
    "df['inches'] = df['height_ft'].apply(get_inches)\n",
    "\n",
    "#drop old column\n",
    "\n",
    "df = df.drop(['height_ft'], axis=1)"
   ]
  },
  {
   "cell_type": "code",
   "execution_count": 89,
   "metadata": {},
   "outputs": [],
   "source": [
    "# get rid of % \n",
    "# do this is scraping if can \n",
    "\n",
    "df['str_acc'] = [x.replace(\"%\", \"\") for x in df['str_acc']]\n",
    "df['str_def'] = [x.replace(\"%\", \"\") for x in df['str_def']]\n",
    "df['tdacc'] = [x.replace(\"%\", \"\") for x in df['tdacc']]\n",
    "df['tddef'] = [x.replace(\"%\", \"\") for x in df['tddef']]"
   ]
  },
  {
   "cell_type": "code",
   "execution_count": 101,
   "metadata": {},
   "outputs": [
    {
     "data": {
      "text/plain": [
       "name           string\n",
       "win             Int64\n",
       "loss            Int64\n",
       "tie            string\n",
       "weight_lbs     string\n",
       "reach_inch     string\n",
       "stance         string\n",
       "slpm          Float64\n",
       "str_acc        string\n",
       "sapm          Float64\n",
       "str_def        string\n",
       "tdavg         Float64\n",
       "tdacc          string\n",
       "tddef          string\n",
       "subavg        Float64\n",
       "w/l_ratio     Float64\n",
       "age             Int64\n",
       "inches          Int64\n",
       "dtype: object"
      ]
     },
     "execution_count": 101,
     "metadata": {},
     "output_type": "execute_result"
    }
   ],
   "source": [
    "# converting to proper data types\n",
    "\n",
    "df = df.convert_dtypes()\n",
    "\n",
    "df.dtypes # the way the data was scraped some nulls were scraped as strings"
   ]
  },
  {
   "cell_type": "code",
   "execution_count": 103,
   "metadata": {},
   "outputs": [
    {
     "data": {
      "text/plain": [
       "Index(['name', 'win', 'loss', 'tie', 'weight_lbs', 'reach_inch', 'stance',\n",
       "       'slpm', 'str_acc', 'sapm', 'str_def', 'tdavg', 'tdacc', 'tddef',\n",
       "       'subavg', 'w/l_ratio', 'age', 'inches'],\n",
       "      dtype='object')"
      ]
     },
     "execution_count": 103,
     "metadata": {},
     "output_type": "execute_result"
    }
   ],
   "source": [
    "df.columns"
   ]
  },
  {
   "cell_type": "code",
   "execution_count": 105,
   "metadata": {},
   "outputs": [
    {
     "data": {
      "text/plain": [
       "name            0\n",
       "win             0\n",
       "loss            0\n",
       "tie             0\n",
       "weight_lbs      0\n",
       "reach_inch      0\n",
       "stance        306\n",
       "slpm            0\n",
       "str_acc         0\n",
       "sapm            0\n",
       "str_def         0\n",
       "tdavg           0\n",
       "tdacc           0\n",
       "tddef           0\n",
       "subavg          0\n",
       "w/l_ratio       1\n",
       "age           427\n",
       "inches        127\n",
       "dtype: int64"
      ]
     },
     "execution_count": 105,
     "metadata": {},
     "output_type": "execute_result"
    }
   ],
   "source": [
    "df.isnull().sum()"
   ]
  },
  {
   "cell_type": "code",
   "execution_count": 118,
   "metadata": {},
   "outputs": [
    {
     "data": {
      "text/plain": [
       "tdacc        NaN\n",
       "tddef        NaN\n",
       "str_def      NaN\n",
       "str_acc      NaN\n",
       "reach_inch   NaN\n",
       "dtype: float64"
      ]
     },
     "execution_count": 118,
     "metadata": {},
     "output_type": "execute_result"
    }
   ],
   "source": [
    "temp"
   ]
  }
 ],
 "metadata": {
  "kernelspec": {
   "display_name": "Python 3.8.12 ('base')",
   "language": "python",
   "name": "python3"
  },
  "language_info": {
   "codemirror_mode": {
    "name": "ipython",
    "version": 3
   },
   "file_extension": ".py",
   "mimetype": "text/x-python",
   "name": "python",
   "nbconvert_exporter": "python",
   "pygments_lexer": "ipython3",
   "version": "3.8.12"
  },
  "vscode": {
   "interpreter": {
    "hash": "28ed5cd8ce41cecc2fff706d226b3eef7bec0687ff143bd5962e3aa6f53044d6"
   }
  }
 },
 "nbformat": 4,
 "nbformat_minor": 4
}
