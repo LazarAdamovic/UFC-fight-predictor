{
 "cells": [
  {
   "cell_type": "markdown",
   "metadata": {},
   "source": [
    "# Plan\n",
    "\n",
    "## \n",
    "\n"
   ]
  },
  {
   "cell_type": "markdown",
   "metadata": {},
   "source": [
    "## Scraping"
   ]
  },
  {
   "cell_type": "markdown",
   "metadata": {},
   "source": [
    "* Scrapy tutorial\n",
    "    * https://www.youtube.com/watch?v=s4jtkzHhLzY&t=18s\n",
    "* Where to scrape fighter data\n",
    "    * http://www.ufcstats.com/fighter-details/93fe7332d16c6ad9\n",
    "* Where to scrape fight data\n",
    "    * http://ufcstats.com/statistics/events/completed?page=all\n"
   ]
  },
  {
   "cell_type": "markdown",
   "metadata": {},
   "source": []
  }
 ],
 "metadata": {
  "interpreter": {
   "hash": "4b6eb38bdf5e5ad4df4721abb2468d830c2ccff7ccbaee8a7326e2cd2ef9f9d4"
  },
  "kernelspec": {
   "display_name": "lighthouse_environment",
   "language": "python",
   "name": "lighthouse_environment"
  },
  "language_info": {
   "codemirror_mode": {
    "name": "ipython",
    "version": 3
   },
   "file_extension": ".py",
   "mimetype": "text/x-python",
   "name": "python",
   "nbconvert_exporter": "python",
   "pygments_lexer": "ipython3",
   "version": "3.8.12"
  }
 },
 "nbformat": 4,
 "nbformat_minor": 4
}
